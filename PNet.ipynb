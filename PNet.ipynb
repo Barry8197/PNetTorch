{
 "cells": [
  {
   "cell_type": "code",
   "execution_count": 2,
   "id": "a9a0e554",
   "metadata": {},
   "outputs": [
    {
     "name": "stderr",
     "output_type": "stream",
     "text": [
      "<frozen importlib._bootstrap>:228: RuntimeWarning: scipy._lib.messagestream.MessageStream size changed, may indicate binary incompatibility. Expected 56 from C header, got 64 from PyObject\n"
     ]
    }
   ],
   "source": [
    "import sys\n",
    "sys.path.insert(0 , '.')\n",
    "import reactome, Pnet\n",
    "import pandas as pd\n",
    "\n",
    "%load_ext autoreload\n",
    "%autoreload 2"
   ]
  },
  {
   "cell_type": "code",
   "execution_count": 3,
   "id": "9484cbe2",
   "metadata": {},
   "outputs": [],
   "source": [
    "net = reactome.ReactomeNetwork(genes_of_interest=['BRCA1' , 'BRCA2' , 'CCNH' , 'CCNT1' ] , n_levels=5)"
   ]
  },
  {
   "cell_type": "code",
   "execution_count": 6,
   "id": "b4cf412b",
   "metadata": {},
   "outputs": [],
   "source": [
    "gene_mask , pathway_masks = net.get_masks()"
   ]
  },
  {
   "cell_type": "code",
   "execution_count": 7,
   "id": "3bc1a2f8",
   "metadata": {},
   "outputs": [],
   "source": [
    "model = Pnet.PNET(reactome_network=net, input_dim=3 , output_dim=10)"
   ]
  },
  {
   "cell_type": "code",
   "execution_count": 8,
   "id": "f7cbef2b",
   "metadata": {},
   "outputs": [
    {
     "data": {
      "text/plain": [
       "PNET(\n",
       "  (activation): ReLU()\n",
       "  (dropout): Dropout(p=0.1, inplace=False)\n",
       "  (layers): ModuleList(\n",
       "    (0): Linear(in_features=3, out_features=4, bias=True)\n",
       "    (1): MaskedLinear(in_features=4, out_features=12, bias=True)\n",
       "    (2): MaskedLinear(in_features=12, out_features=25, bias=True)\n",
       "    (3): MaskedLinear(in_features=25, out_features=24, bias=True)\n",
       "    (4): MaskedLinear(in_features=24, out_features=13, bias=True)\n",
       "  )\n",
       "  (skip): ModuleList(\n",
       "    (0): Linear(in_features=4, out_features=10, bias=True)\n",
       "    (1): Linear(in_features=12, out_features=10, bias=True)\n",
       "    (2): Linear(in_features=25, out_features=10, bias=True)\n",
       "    (3): Linear(in_features=24, out_features=10, bias=True)\n",
       "    (4): Linear(in_features=13, out_features=10, bias=True)\n",
       "  )\n",
       ")"
      ]
     },
     "execution_count": 8,
     "metadata": {},
     "output_type": "execute_result"
    }
   ],
   "source": [
    "model"
   ]
  },
  {
   "cell_type": "code",
   "execution_count": 14,
   "id": "daed2a6b",
   "metadata": {},
   "outputs": [
    {
     "name": "stdout",
     "output_type": "stream",
     "text": [
      "Epoch [10/100], Loss: 1.1134\n",
      "Epoch [20/100], Loss: 1.1132\n",
      "Epoch [30/100], Loss: 1.1129\n",
      "Epoch [40/100], Loss: 1.1127\n",
      "Epoch [50/100], Loss: 1.1125\n",
      "Epoch [60/100], Loss: 1.1122\n",
      "Epoch [70/100], Loss: 1.1120\n",
      "Epoch [80/100], Loss: 1.1118\n",
      "Epoch [90/100], Loss: 1.1116\n",
      "Epoch [100/100], Loss: 1.1113\n",
      "\n",
      "Training completed.\n",
      "Example input:\n",
      " tensor([[-1.0193,  0.6471,  0.3804]], device='cuda:0')\n",
      "Example output:\n",
      " tensor([[ 0.1215,  0.1614,  0.0332,  0.1530,  0.1265,  0.1565, -0.1994,  0.0646,\n",
      "          0.1042, -0.0184, -0.0797, -0.0062, -0.1912, -0.0573, -0.0144, -0.0263]],\n",
      "       device='cuda:0', grad_fn=<DivBackward0>)\n"
     ]
    }
   ],
   "source": [
    "import torch\n",
    "import torch.nn as nn\n",
    "import torch.optim as optim\n",
    "\n",
    "# Step 1: Generate random data\n",
    "# Let's create a dataset with 100 samples, each having 5 features\n",
    "input_size = 3\n",
    "output_size = 16\n",
    "num_samples = 100\n",
    "\n",
    "device = torch.device('cuda')\n",
    "\n",
    "# Random input data and target values\n",
    "X = torch.randn(num_samples, input_size).to(device)\n",
    "y = torch.randn(num_samples, output_size).to(device)\n",
    "\n",
    "model = Pnet.PNET(reactome_network=net, input_dim=3 , output_dim=16).to(device)\n",
    "\n",
    "# Step 3: Define loss function and optimizer\n",
    "criterion = nn.MSELoss()  # Mean Squared Error Loss\n",
    "optimizer = optim.SGD(model.parameters(), lr=0.01)  # Stochastic Gradient Descent\n",
    "\n",
    "# Step 4: Train the model\n",
    "num_epochs = 100\n",
    "\n",
    "for epoch in range(num_epochs):\n",
    "    # Forward pass: compute the model output\n",
    "    # Check if the tensor elements are close to zero\n",
    "    outputs = model(X)\n",
    "    loss = criterion(outputs, y)\n",
    "    \n",
    "    # Backward pass: compute gradients\n",
    "    optimizer.zero_grad()\n",
    "    loss.backward()\n",
    "    \n",
    "    # Update the weights\n",
    "    optimizer.step()\n",
    "\n",
    "    # Print loss every 10 epochs\n",
    "    if (epoch + 1) % 10 == 0:\n",
    "        print(f'Epoch [{epoch+1}/{num_epochs}], Loss: {loss.item():.4f}')\n",
    "\n",
    "    \n",
    "# Example output after training\n",
    "print(\"\\nTraining completed.\")\n",
    "example_input = torch.randn(1, input_size).to(device)\n",
    "example_output = model(example_input)\n",
    "print(\"Example input:\\n\", example_input)\n",
    "print(\"Example output:\\n\", example_output)\n"
   ]
  },
  {
   "cell_type": "code",
   "execution_count": 62,
   "id": "4f67f4ac",
   "metadata": {},
   "outputs": [],
   "source": [
    "import captum"
   ]
  },
  {
   "cell_type": "code",
   "execution_count": 65,
   "id": "919a9a97",
   "metadata": {},
   "outputs": [
    {
     "name": "stderr",
     "output_type": "stream",
     "text": [
      "/Users/barryryan/anaconda3/lib/python3.11/site-packages/captum/_utils/gradient.py:57: UserWarning: Input Tensor 0 did not already require gradients, required_grads has been set automatically.\n",
      "  warnings.warn(\n",
      "/Users/barryryan/anaconda3/lib/python3.11/site-packages/captum/attr/_core/deep_lift.py:304: UserWarning: Setting forward, backward hooks and attributes on non-linear\n",
      "               activations. The hooks and attributes will be removed\n",
      "            after the attribution is finished\n",
      "  warnings.warn(\n"
     ]
    }
   ],
   "source": [
    "dl = captum.attr.DeepLift(model)\n",
    "gene_importances = dl.attribute((X), target=0)"
   ]
  },
  {
   "cell_type": "code",
   "execution_count": 67,
   "id": "623f4c28",
   "metadata": {},
   "outputs": [
    {
     "data": {
      "text/plain": [
       "torch.Size([100, 3])"
      ]
     },
     "execution_count": 67,
     "metadata": {},
     "output_type": "execute_result"
    }
   ],
   "source": [
    "gene_importances.shape"
   ]
  },
  {
   "cell_type": "code",
   "execution_count": 58,
   "id": "d0ac752c",
   "metadata": {},
   "outputs": [
    {
     "ename": "AttributeError",
     "evalue": "'Tensor' object has no attribute 'x'",
     "output_type": "error",
     "traceback": [
      "\u001b[0;31m---------------------------------------------------------------------------\u001b[0m",
      "\u001b[0;31mAttributeError\u001b[0m                            Traceback (most recent call last)",
      "Cell \u001b[0;32mIn[58], line 1\u001b[0m\n\u001b[0;32m----> 1\u001b[0m model\u001b[38;5;241m.\u001b[39mdeepLIFT(X , \u001b[38;5;241m0\u001b[39m)\n",
      "File \u001b[0;32m~/Library/CloudStorage/OneDrive-UniversityofEdinburgh/PhD_Research/Year3/Python/PNet/Custom_PNet/Pnet.py:162\u001b[0m, in \u001b[0;36mPNET.deepLIFT\u001b[0;34m(self, test_dataset, target_class)\u001b[0m\n\u001b[1;32m    160\u001b[0m \u001b[38;5;28mself\u001b[39m\u001b[38;5;241m.\u001b[39minterpret_flag\u001b[38;5;241m=\u001b[39m\u001b[38;5;28;01mTrue\u001b[39;00m\n\u001b[1;32m    161\u001b[0m dl \u001b[38;5;241m=\u001b[39m captum\u001b[38;5;241m.\u001b[39mattr\u001b[38;5;241m.\u001b[39mDeepLift(\u001b[38;5;28mself\u001b[39m)\n\u001b[0;32m--> 162\u001b[0m gene_importances \u001b[38;5;241m=\u001b[39m dl\u001b[38;5;241m.\u001b[39mattribute((test_dataset\u001b[38;5;241m.\u001b[39mx), target\u001b[38;5;241m=\u001b[39mtarget_class)\n\u001b[1;32m    163\u001b[0m gene_importances \u001b[38;5;241m=\u001b[39m pd\u001b[38;5;241m.\u001b[39mDataFrame(gene_importances\u001b[38;5;241m.\u001b[39mdetach()\u001b[38;5;241m.\u001b[39mnumpy(),\n\u001b[1;32m    164\u001b[0m                                 index\u001b[38;5;241m=\u001b[39mtest_dataset\u001b[38;5;241m.\u001b[39minput_df\u001b[38;5;241m.\u001b[39mindex,\n\u001b[1;32m    165\u001b[0m                                 columns\u001b[38;5;241m=\u001b[39mtest_dataset\u001b[38;5;241m.\u001b[39minput_df\u001b[38;5;241m.\u001b[39mcolumns)\n\u001b[1;32m    167\u001b[0m \u001b[38;5;28mself\u001b[39m\u001b[38;5;241m.\u001b[39mgene_importances \u001b[38;5;241m=\u001b[39m gene_importances\n",
      "\u001b[0;31mAttributeError\u001b[0m: 'Tensor' object has no attribute 'x'"
     ]
    }
   ],
   "source": [
    "model.deepLIFT(X , 0)"
   ]
  },
  {
   "cell_type": "code",
   "execution_count": 71,
   "id": "cf826cd9",
   "metadata": {},
   "outputs": [],
   "source": [
    "\n",
    "model.interpret_flag=True\n",
    "ig = captum.attr.IntegratedGradients(model)\n",
    "\n",
    "ig_attr, delta = ig.attribute((X), return_convergence_delta=True, target=0)\n",
    "gene_importances = ig_attr\n",
    "gene_importances = pd.DataFrame(gene_importances.detach().numpy())\n",
    "\n",
    "\n"
   ]
  },
  {
   "cell_type": "code",
   "execution_count": 76,
   "id": "413b6421",
   "metadata": {},
   "outputs": [
    {
     "data": {
      "text/plain": [
       "MaskedLinear(in_features=4, out_features=12, bias=True)"
      ]
     },
     "execution_count": 76,
     "metadata": {},
     "output_type": "execute_result"
    }
   ],
   "source": [
    "model.layers[1]"
   ]
  },
  {
   "cell_type": "code",
   "execution_count": 77,
   "id": "5dfda05f",
   "metadata": {},
   "outputs": [
    {
     "ename": "NameError",
     "evalue": "name 'self' is not defined",
     "output_type": "error",
     "traceback": [
      "\u001b[0;31m---------------------------------------------------------------------------\u001b[0m",
      "\u001b[0;31mNameError\u001b[0m                                 Traceback (most recent call last)",
      "Cell \u001b[0;32mIn[77], line 5\u001b[0m\n\u001b[1;32m      3\u001b[0m cond \u001b[38;5;241m=\u001b[39m captum\u001b[38;5;241m.\u001b[39mattr\u001b[38;5;241m.\u001b[39mLayerConductance(model, model\u001b[38;5;241m.\u001b[39mlayers[\u001b[38;5;241m1\u001b[39m])  \u001b[38;5;66;03m# ReLU output of masked layer at each level\u001b[39;00m\n\u001b[1;32m      4\u001b[0m cond_vals \u001b[38;5;241m=\u001b[39m cond\u001b[38;5;241m.\u001b[39mattribute((X), target\u001b[38;5;241m=\u001b[39m\u001b[38;5;241m0\u001b[39m)\n\u001b[0;32m----> 5\u001b[0m cols \u001b[38;5;241m=\u001b[39m [\u001b[38;5;28mself\u001b[39m\u001b[38;5;241m.\u001b[39mreactome_network\u001b[38;5;241m.\u001b[39mpathway_encoding\u001b[38;5;241m.\u001b[39mset_index(\u001b[38;5;124m'\u001b[39m\u001b[38;5;124mID\u001b[39m\u001b[38;5;124m'\u001b[39m)\u001b[38;5;241m.\u001b[39mloc[col][\u001b[38;5;124m'\u001b[39m\u001b[38;5;124mpathway\u001b[39m\u001b[38;5;124m'\u001b[39m] \u001b[38;5;28;01mfor\u001b[39;00m col \u001b[38;5;129;01min\u001b[39;00m \u001b[38;5;28mself\u001b[39m\u001b[38;5;241m.\u001b[39mreactome_network\u001b[38;5;241m.\u001b[39mpathway_layers[\u001b[38;5;241m0\u001b[39m]\u001b[38;5;241m.\u001b[39mindex]\n\u001b[1;32m      6\u001b[0m cond_vals_genomic \u001b[38;5;241m=\u001b[39m pd\u001b[38;5;241m.\u001b[39mDataFrame(cond_vals\u001b[38;5;241m.\u001b[39mdetach()\u001b[38;5;241m.\u001b[39mnumpy(),\n\u001b[1;32m      7\u001b[0m                                  columns\u001b[38;5;241m=\u001b[39mcols,\n\u001b[1;32m      8\u001b[0m                                  index\u001b[38;5;241m=\u001b[39mtest_dataset\u001b[38;5;241m.\u001b[39minput_df\u001b[38;5;241m.\u001b[39mindex)\n\u001b[1;32m      9\u001b[0m pathway_imp_by_target \u001b[38;5;241m=\u001b[39m cond_vals_genomic\n",
      "\u001b[0;31mNameError\u001b[0m: name 'self' is not defined"
     ]
    }
   ],
   "source": [
    "\n",
    "model.interpret_flag=True\n",
    "layer_importance_scores = []\n",
    "cond = captum.attr.LayerConductance(model, model.layers[1])  # ReLU output of masked layer at each level\n",
    "cond_vals = cond.attribute((X), target=0)\n",
    "cols = [self.reactome_network.pathway_encoding.set_index('ID').loc[col]['pathway'] for col in self.reactome_network.pathway_layers[0].index]\n",
    "cond_vals_genomic = pd.DataFrame(cond_vals.detach().numpy(),\n",
    "                                 columns=cols,\n",
    "                                 index=test_dataset.input_df.index)\n",
    "pathway_imp_by_target = cond_vals_genomic\n",
    "layer_importance_scores.append(pathway_imp_by_target)\n",
    "\n",
    "for i, level in enumerate(self.layers):\n",
    "    cond = captum.attr.LayerConductance(self, level.pathway_layer)  # ReLU output of masked layer at each level\n",
    "    cond_vals = cond.attribute((test_dataset.x, test_dataset.additional), target=target_class)\n",
    "    cols = [self.reactome_network.pathway_encoding.set_index('ID').loc[col]['pathway'] for col in self.reactome_network.pathway_layers[i].columns]\n",
    "    cond_vals_genomic = pd.DataFrame(cond_vals.detach().numpy(),\n",
    "                                     columns=cols,\n",
    "                                     index=test_dataset.input_df.index)\n",
    "    pathway_imp_by_target = cond_vals_genomic\n",
    "    layer_importance_scores.append(pathway_imp_by_target)\n",
    "self.interpret_flag=False"
   ]
  },
  {
   "cell_type": "code",
   "execution_count": 80,
   "id": "533279ae",
   "metadata": {},
   "outputs": [
    {
     "data": {
      "text/plain": [
       "torch.Size([100, 12])"
      ]
     },
     "execution_count": 80,
     "metadata": {},
     "output_type": "execute_result"
    }
   ],
   "source": [
    "cond_vals.shape"
   ]
  },
  {
   "cell_type": "code",
   "execution_count": null,
   "id": "e5ea98f0",
   "metadata": {},
   "outputs": [],
   "source": [
    "\n",
    "\n",
    "def layerwise_activation(self, test_dataset, target_class=0):\n",
    "    self.interpret_flag=True\n",
    "    layer_importance_scores = []\n",
    "    for i, level in enumerate(self.layers):\n",
    "        act = captum.attr.LayerActivation(self, level.pathway_layer)\n",
    "        act_vals = act.attribute((test_dataset.x, test_dataset.additional), attribute_to_layer_input=True)\n",
    "        cols = [self.reactome_network.pathway_encoding.set_index('ID').loc[col]['pathway'] for col in self.reactome_network.pathway_layers[i].index]\n",
    "        act_vals_genomic = pd.DataFrame(act_vals.detach().numpy(),\n",
    "                                        columns=cols,\n",
    "                                        index=test_dataset.input_df.index)\n",
    "        pathway_imp_by_target = act_vals_genomic\n",
    "        layer_importance_scores.append(pathway_imp_by_target)\n",
    "    self.interpret_flag=False\n",
    "    return layer_importance_scores"
   ]
  }
 ],
 "metadata": {
  "kernelspec": {
   "display_name": "Python 3 (ipykernel)",
   "language": "python",
   "name": "python3"
  },
  "language_info": {
   "codemirror_mode": {
    "name": "ipython",
    "version": 3
   },
   "file_extension": ".py",
   "mimetype": "text/x-python",
   "name": "python",
   "nbconvert_exporter": "python",
   "pygments_lexer": "ipython3",
   "version": "3.9.12"
  }
 },
 "nbformat": 4,
 "nbformat_minor": 5
}
